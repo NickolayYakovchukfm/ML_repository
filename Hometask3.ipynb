{
 "cells": [
  {
   "cell_type": "markdown",
   "metadata": {},
   "source": [
    "# Домашнее задание: модели классификации и оценка их качества.\n",
    "\n",
    "Будем тренироваться обучать модели классификации и интерпретировать их качество.\n",
    "\n",
    "Максимальный балл за задание - 11.\n",
    "Балл, который ставится в ведомость - min(10,ваш балл)."
   ]
  },
  {
   "cell_type": "markdown",
   "metadata": {},
   "source": [
    "## Часть 1. Обучение моделей классификации (5 баллов). \n",
    "\n",
    "Поработайте с датасетом telecom_churn. Вам предстоит по характеристикам клиента предсказать, уйдет он или нет (целевая колонка - Churn).\n",
    "\n",
    "A. Решите задачу с помощью логистической регрессии:\n",
    "- подберите значение гиперпараметров с помощью GridSearchCV\n",
    "Что вы можете сказать об алгоритме? Он переобучился/недообучился/обучился как надо и вы довольны качеством?\n",
    "\n",
    "B. Решите задачу с помощью метода опорных векторов (с kernel = 'linear'):\n",
    "- подберите значение гиперпараметров с помощью GridSearchCV\n",
    "Что вы можете сказать об алгоритме? Он переобучился/недообучился/обучился как надо и вы довольны качеством?\n",
    "\n",
    "Не забудьте масштабировать данные перед применением линейных моделей.\n",
    "\n",
    "C. Попробуйте увеличить число признаков с помощью добавления полиномиальных признаков. Также можно добавить функции от признаков вручную (те, которые вам кажутся подходящими в данной задаче).\n",
    "Улучшилось ли качество алгоритма?\n",
    "\n",
    "D. Постройте матрицу корреляций признаков. Есть ли признаки, которые практически не коррелируют с целевой переменной? Попробуйте их удалить. Есть ли пары сильно коррелирующих между собой признаков? Удалите по одному признаку из каждой пары.\n",
    "Помогло ли это улучшить качество в данной задаче?\n",
    "\n",
    "Пункты C и D можно скомбинировать для достижения наилучшего качества.\n",
    "\n",
    "E. Сделайте мини-отчет о проведенной работе. Для этого ответьте на вопросы:\n",
    "a) какой классификатор дал наилучший результат? чему равны значения метрик accuracy, f1-score и ROC-AUC? \n",
    "(Вы можете изначально разбить данные на train и test и сравнивать значения метрик на этих выборках; или же можно оценивать качество алгоритмов по кросс-валидации).\n",
    "\n",
    "b) какие новые признаки вы добавили и какие признаки удалили?\n",
    "\n",
    "c) удалось ли добиться того, что алгоритм не переобучился и не недообучился?"
   ]
  },
  {
   "cell_type": "code",
   "execution_count": 1,
   "metadata": {},
   "outputs": [
    {
     "name": "stdout",
     "output_type": "stream",
     "text": [
      "Populating the interactive namespace from numpy and matplotlib\n"
     ]
    }
   ],
   "source": [
    "import pandas as pd\n",
    "import matplotlib.pyplot as plt\n",
    "import numpy as np\n",
    "from sklearn.model_selection import cross_val_score\n",
    "\n",
    "clients_df = pd.read_csv('telecom_churn.csv')\n",
    "%pylab inline"
   ]
  },
  {
   "cell_type": "markdown",
   "metadata": {},
   "source": [
    "Лог рег"
   ]
  },
  {
   "cell_type": "code",
   "execution_count": 2,
   "metadata": {},
   "outputs": [
    {
     "name": "stdout",
     "output_type": "stream",
     "text": [
      "0.3064697880180383\n",
      "0.8550000000000001\n",
      "0.7811456769035503\n"
     ]
    }
   ],
   "source": [
    "from sklearn.linear_model import LogisticRegression\n",
    "from sklearn.model_selection import GridSearchCV\n",
    "from sklearn.model_selection import train_test_split\n",
    "from sklearn.pipeline import make_pipeline\n",
    "from sklearn.preprocessing import StandardScaler\n",
    "from sklearn.metrics import log_loss\n",
    "\n",
    "clients_df[\"International plan\"]=np.where(clients_df[\"International plan\"]==\"Yes\", 1 , 0)\n",
    "clients_df[\"Voice mail plan\"]=np.where(clients_df[\"Voice mail plan\"]==\"Yes\", 1 , 0)\n",
    "clients_df['Churn']= clients_df['Churn'].replace({'True': 1})\n",
    "clients_df['Churn']= clients_df['Churn'].replace({'False': 0})\n",
    "\n",
    "df = pd.get_dummies(clients_df, prefix='State')\n",
    "\n",
    "X = df.drop(columns='Churn')\n",
    "y = df['Churn']\n",
    "\n",
    "X_train, X_test, y_train, y_test = train_test_split(X, y,\n",
    "                                       test_size=0.3)\n",
    "log_reg = GridSearchCV(make_pipeline(StandardScaler(), LogisticRegression()),\n",
    "                    param_grid={'logisticregression__C': [0.1, 10.0]},\n",
    "                    cv=2,)\n",
    "\n",
    "log_reg.fit(X_train,y_train)\n",
    "y_train_pred = log_reg.predict(X_train)\n",
    "y_test_pred = log_reg.predict(X_test)\n",
    "print(mean(cross_val_score(log_reg, X_test, y_test, scoring='f1')))\n",
    "print(mean(cross_val_score(log_reg, X_test, y_test, scoring='accuracy')))\n",
    "print(mean(cross_val_score(log_reg, X_test, y_test, scoring='roc_auc')))"
   ]
  },
  {
   "cell_type": "code",
   "execution_count": 3,
   "metadata": {},
   "outputs": [
    {
     "name": "stdout",
     "output_type": "stream",
     "text": [
      "4.697355148645733 logloss for logreg on test\n",
      "4.397003211603824 logloss for logreg on train\n"
     ]
    }
   ],
   "source": [
    "print(log_loss(y_test_pred, y_test), 'logloss for logreg on test')\n",
    "print(log_loss(y_train_pred, y_train), 'logloss for logreg on train')"
   ]
  },
  {
   "cell_type": "code",
   "execution_count": 4,
   "metadata": {},
   "outputs": [
    {
     "name": "stdout",
     "output_type": "stream",
     "text": [
      "0.26675216501048143\n",
      "0.842\n",
      "0.7825763970439961\n"
     ]
    }
   ],
   "source": [
    "from sklearn.svm import SVC\n",
    "from sklearn.metrics import hinge_loss\n",
    "\n",
    "svm = GridSearchCV(make_pipeline(StandardScaler(), SVC(kernel = 'linear')),\n",
    "                    param_grid={'svc__C': [0.1, 10.0]},\n",
    "                    cv=2,)\n",
    "\n",
    "svm.fit(X_train,y_train)\n",
    "y_train_pred_svm = svm.predict(X_train)\n",
    "y_test_pred_svm = svm.predict(X_test)\n",
    "print(mean(cross_val_score(svm, X_test, y_test, scoring='f1')))\n",
    "print(mean(cross_val_score(svm, X_test, y_test, scoring='accuracy')))\n",
    "print(mean(cross_val_score(svm, X_test, y_test, scoring='roc_auc')))"
   ]
  },
  {
   "cell_type": "code",
   "execution_count": 5,
   "metadata": {},
   "outputs": [
    {
     "name": "stdout",
     "output_type": "stream",
     "text": [
      "1.148 hingeloss for svm on test\n",
      "1.143591941705958 hingeloss for svm on train\n"
     ]
    }
   ],
   "source": [
    "print(hinge_loss(y_test_pred_svm, y_test), 'hingeloss for svm on test')\n",
    "print(hinge_loss(y_train_pred_svm, y_train), 'hingeloss for svm on train')"
   ]
  },
  {
   "cell_type": "code",
   "execution_count": 6,
   "metadata": {},
   "outputs": [
    {
     "name": "stdout",
     "output_type": "stream",
     "text": [
      "0.0\n",
      "0.8459999999999999\n",
      "0.6925136888120395\n"
     ]
    }
   ],
   "source": [
    "import sklearn\n",
    "from sklearn.preprocessing import PolynomialFeatures\n",
    "\n",
    "svm_poly = SVC()\n",
    "\n",
    "poly = PolynomialFeatures(2)\n",
    "X_poly = poly.fit_transform(X)\n",
    "X_train_poly, X_test_poly, y_train_poly, y_test_poly = train_test_split(X_poly, y, test_size=0.3)\n",
    "\n",
    "svm_poly.fit(X_train_poly,y_train_poly)\n",
    "print(mean(cross_val_score(svm_poly, X_test_poly, y_test_poly, scoring='f1')))\n",
    "print(mean(cross_val_score(svm_poly, X_test_poly, y_test_poly, scoring='accuracy')))\n",
    "print(mean(cross_val_score(svm_poly, X_test_poly, y_test_poly, scoring='roc_auc')))"
   ]
  },
  {
   "cell_type": "code",
   "execution_count": 7,
   "metadata": {},
   "outputs": [
    {
     "data": {
      "text/html": [
       "<div>\n",
       "<style scoped>\n",
       "    .dataframe tbody tr th:only-of-type {\n",
       "        vertical-align: middle;\n",
       "    }\n",
       "\n",
       "    .dataframe tbody tr th {\n",
       "        vertical-align: top;\n",
       "    }\n",
       "\n",
       "    .dataframe thead th {\n",
       "        text-align: right;\n",
       "    }\n",
       "</style>\n",
       "<table border=\"1\" class=\"dataframe\">\n",
       "  <thead>\n",
       "    <tr style=\"text-align: right;\">\n",
       "      <th></th>\n",
       "      <th>Account length</th>\n",
       "      <th>Area code</th>\n",
       "      <th>International plan</th>\n",
       "      <th>Voice mail plan</th>\n",
       "      <th>Number vmail messages</th>\n",
       "      <th>Total day minutes</th>\n",
       "      <th>Total day calls</th>\n",
       "      <th>Total day charge</th>\n",
       "      <th>Total eve minutes</th>\n",
       "      <th>Total eve calls</th>\n",
       "      <th>Total eve charge</th>\n",
       "      <th>Total night minutes</th>\n",
       "      <th>Total night calls</th>\n",
       "      <th>Total night charge</th>\n",
       "      <th>Total intl minutes</th>\n",
       "      <th>Total intl calls</th>\n",
       "      <th>Total intl charge</th>\n",
       "      <th>Customer service calls</th>\n",
       "      <th>Churn</th>\n",
       "    </tr>\n",
       "  </thead>\n",
       "  <tbody>\n",
       "    <tr>\n",
       "      <th>Account length</th>\n",
       "      <td>1.000000</td>\n",
       "      <td>-0.012463</td>\n",
       "      <td>0.024735</td>\n",
       "      <td>0.002918</td>\n",
       "      <td>-0.004628</td>\n",
       "      <td>0.006216</td>\n",
       "      <td>0.038470</td>\n",
       "      <td>0.006214</td>\n",
       "      <td>-0.006757</td>\n",
       "      <td>0.019260</td>\n",
       "      <td>-0.006745</td>\n",
       "      <td>-0.008955</td>\n",
       "      <td>-0.013176</td>\n",
       "      <td>-0.008960</td>\n",
       "      <td>0.009514</td>\n",
       "      <td>0.020661</td>\n",
       "      <td>0.009546</td>\n",
       "      <td>-0.003796</td>\n",
       "      <td>0.016541</td>\n",
       "    </tr>\n",
       "    <tr>\n",
       "      <th>Area code</th>\n",
       "      <td>-0.012463</td>\n",
       "      <td>1.000000</td>\n",
       "      <td>0.048551</td>\n",
       "      <td>-0.000747</td>\n",
       "      <td>-0.001994</td>\n",
       "      <td>-0.008264</td>\n",
       "      <td>-0.009646</td>\n",
       "      <td>-0.008264</td>\n",
       "      <td>0.003580</td>\n",
       "      <td>-0.011886</td>\n",
       "      <td>0.003607</td>\n",
       "      <td>-0.005825</td>\n",
       "      <td>0.016522</td>\n",
       "      <td>-0.005845</td>\n",
       "      <td>-0.018288</td>\n",
       "      <td>-0.024179</td>\n",
       "      <td>-0.018395</td>\n",
       "      <td>0.027572</td>\n",
       "      <td>0.006174</td>\n",
       "    </tr>\n",
       "    <tr>\n",
       "      <th>International plan</th>\n",
       "      <td>0.024735</td>\n",
       "      <td>0.048551</td>\n",
       "      <td>1.000000</td>\n",
       "      <td>0.006006</td>\n",
       "      <td>0.008745</td>\n",
       "      <td>0.049396</td>\n",
       "      <td>0.003755</td>\n",
       "      <td>0.049398</td>\n",
       "      <td>0.019100</td>\n",
       "      <td>0.006114</td>\n",
       "      <td>0.019106</td>\n",
       "      <td>-0.028905</td>\n",
       "      <td>0.012451</td>\n",
       "      <td>-0.028913</td>\n",
       "      <td>0.045871</td>\n",
       "      <td>0.017366</td>\n",
       "      <td>0.045780</td>\n",
       "      <td>-0.024522</td>\n",
       "      <td>0.259852</td>\n",
       "    </tr>\n",
       "    <tr>\n",
       "      <th>Voice mail plan</th>\n",
       "      <td>0.002918</td>\n",
       "      <td>-0.000747</td>\n",
       "      <td>0.006006</td>\n",
       "      <td>1.000000</td>\n",
       "      <td>0.956927</td>\n",
       "      <td>-0.001684</td>\n",
       "      <td>-0.011086</td>\n",
       "      <td>-0.001686</td>\n",
       "      <td>0.021545</td>\n",
       "      <td>-0.006444</td>\n",
       "      <td>0.021559</td>\n",
       "      <td>0.006079</td>\n",
       "      <td>0.015553</td>\n",
       "      <td>0.006064</td>\n",
       "      <td>-0.001318</td>\n",
       "      <td>0.007618</td>\n",
       "      <td>-0.001276</td>\n",
       "      <td>-0.017824</td>\n",
       "      <td>-0.102148</td>\n",
       "    </tr>\n",
       "    <tr>\n",
       "      <th>Number vmail messages</th>\n",
       "      <td>-0.004628</td>\n",
       "      <td>-0.001994</td>\n",
       "      <td>0.008745</td>\n",
       "      <td>0.956927</td>\n",
       "      <td>1.000000</td>\n",
       "      <td>0.000778</td>\n",
       "      <td>-0.009548</td>\n",
       "      <td>0.000776</td>\n",
       "      <td>0.017562</td>\n",
       "      <td>-0.005864</td>\n",
       "      <td>0.017578</td>\n",
       "      <td>0.007681</td>\n",
       "      <td>0.007123</td>\n",
       "      <td>0.007663</td>\n",
       "      <td>0.002856</td>\n",
       "      <td>0.013957</td>\n",
       "      <td>0.002884</td>\n",
       "      <td>-0.013263</td>\n",
       "      <td>-0.089728</td>\n",
       "    </tr>\n",
       "    <tr>\n",
       "      <th>Total day minutes</th>\n",
       "      <td>0.006216</td>\n",
       "      <td>-0.008264</td>\n",
       "      <td>0.049396</td>\n",
       "      <td>-0.001684</td>\n",
       "      <td>0.000778</td>\n",
       "      <td>1.000000</td>\n",
       "      <td>0.006750</td>\n",
       "      <td>1.000000</td>\n",
       "      <td>0.007043</td>\n",
       "      <td>0.015769</td>\n",
       "      <td>0.007029</td>\n",
       "      <td>0.004323</td>\n",
       "      <td>0.022972</td>\n",
       "      <td>0.004300</td>\n",
       "      <td>-0.010155</td>\n",
       "      <td>0.008033</td>\n",
       "      <td>-0.010092</td>\n",
       "      <td>-0.013423</td>\n",
       "      <td>0.205151</td>\n",
       "    </tr>\n",
       "    <tr>\n",
       "      <th>Total day calls</th>\n",
       "      <td>0.038470</td>\n",
       "      <td>-0.009646</td>\n",
       "      <td>0.003755</td>\n",
       "      <td>-0.011086</td>\n",
       "      <td>-0.009548</td>\n",
       "      <td>0.006750</td>\n",
       "      <td>1.000000</td>\n",
       "      <td>0.006753</td>\n",
       "      <td>-0.021451</td>\n",
       "      <td>0.006462</td>\n",
       "      <td>-0.021449</td>\n",
       "      <td>0.022938</td>\n",
       "      <td>-0.019557</td>\n",
       "      <td>0.022927</td>\n",
       "      <td>0.021565</td>\n",
       "      <td>0.004574</td>\n",
       "      <td>0.021666</td>\n",
       "      <td>-0.018942</td>\n",
       "      <td>0.018459</td>\n",
       "    </tr>\n",
       "    <tr>\n",
       "      <th>Total day charge</th>\n",
       "      <td>0.006214</td>\n",
       "      <td>-0.008264</td>\n",
       "      <td>0.049398</td>\n",
       "      <td>-0.001686</td>\n",
       "      <td>0.000776</td>\n",
       "      <td>1.000000</td>\n",
       "      <td>0.006753</td>\n",
       "      <td>1.000000</td>\n",
       "      <td>0.007050</td>\n",
       "      <td>0.015769</td>\n",
       "      <td>0.007036</td>\n",
       "      <td>0.004324</td>\n",
       "      <td>0.022972</td>\n",
       "      <td>0.004301</td>\n",
       "      <td>-0.010157</td>\n",
       "      <td>0.008032</td>\n",
       "      <td>-0.010094</td>\n",
       "      <td>-0.013427</td>\n",
       "      <td>0.205151</td>\n",
       "    </tr>\n",
       "    <tr>\n",
       "      <th>Total eve minutes</th>\n",
       "      <td>-0.006757</td>\n",
       "      <td>0.003580</td>\n",
       "      <td>0.019100</td>\n",
       "      <td>0.021545</td>\n",
       "      <td>0.017562</td>\n",
       "      <td>0.007043</td>\n",
       "      <td>-0.021451</td>\n",
       "      <td>0.007050</td>\n",
       "      <td>1.000000</td>\n",
       "      <td>-0.011430</td>\n",
       "      <td>1.000000</td>\n",
       "      <td>-0.012584</td>\n",
       "      <td>0.007586</td>\n",
       "      <td>-0.012593</td>\n",
       "      <td>-0.011035</td>\n",
       "      <td>0.002541</td>\n",
       "      <td>-0.011067</td>\n",
       "      <td>-0.012985</td>\n",
       "      <td>0.092796</td>\n",
       "    </tr>\n",
       "    <tr>\n",
       "      <th>Total eve calls</th>\n",
       "      <td>0.019260</td>\n",
       "      <td>-0.011886</td>\n",
       "      <td>0.006114</td>\n",
       "      <td>-0.006444</td>\n",
       "      <td>-0.005864</td>\n",
       "      <td>0.015769</td>\n",
       "      <td>0.006462</td>\n",
       "      <td>0.015769</td>\n",
       "      <td>-0.011430</td>\n",
       "      <td>1.000000</td>\n",
       "      <td>-0.011423</td>\n",
       "      <td>-0.002093</td>\n",
       "      <td>0.007710</td>\n",
       "      <td>-0.002056</td>\n",
       "      <td>0.008703</td>\n",
       "      <td>0.017434</td>\n",
       "      <td>0.008674</td>\n",
       "      <td>0.002423</td>\n",
       "      <td>0.009233</td>\n",
       "    </tr>\n",
       "    <tr>\n",
       "      <th>Total eve charge</th>\n",
       "      <td>-0.006745</td>\n",
       "      <td>0.003607</td>\n",
       "      <td>0.019106</td>\n",
       "      <td>0.021559</td>\n",
       "      <td>0.017578</td>\n",
       "      <td>0.007029</td>\n",
       "      <td>-0.021449</td>\n",
       "      <td>0.007036</td>\n",
       "      <td>1.000000</td>\n",
       "      <td>-0.011423</td>\n",
       "      <td>1.000000</td>\n",
       "      <td>-0.012592</td>\n",
       "      <td>0.007596</td>\n",
       "      <td>-0.012601</td>\n",
       "      <td>-0.011043</td>\n",
       "      <td>0.002541</td>\n",
       "      <td>-0.011074</td>\n",
       "      <td>-0.012987</td>\n",
       "      <td>0.092786</td>\n",
       "    </tr>\n",
       "    <tr>\n",
       "      <th>Total night minutes</th>\n",
       "      <td>-0.008955</td>\n",
       "      <td>-0.005825</td>\n",
       "      <td>-0.028905</td>\n",
       "      <td>0.006079</td>\n",
       "      <td>0.007681</td>\n",
       "      <td>0.004323</td>\n",
       "      <td>0.022938</td>\n",
       "      <td>0.004324</td>\n",
       "      <td>-0.012584</td>\n",
       "      <td>-0.002093</td>\n",
       "      <td>-0.012592</td>\n",
       "      <td>1.000000</td>\n",
       "      <td>0.011204</td>\n",
       "      <td>0.999999</td>\n",
       "      <td>-0.015207</td>\n",
       "      <td>-0.012353</td>\n",
       "      <td>-0.015180</td>\n",
       "      <td>-0.009288</td>\n",
       "      <td>0.035493</td>\n",
       "    </tr>\n",
       "    <tr>\n",
       "      <th>Total night calls</th>\n",
       "      <td>-0.013176</td>\n",
       "      <td>0.016522</td>\n",
       "      <td>0.012451</td>\n",
       "      <td>0.015553</td>\n",
       "      <td>0.007123</td>\n",
       "      <td>0.022972</td>\n",
       "      <td>-0.019557</td>\n",
       "      <td>0.022972</td>\n",
       "      <td>0.007586</td>\n",
       "      <td>0.007710</td>\n",
       "      <td>0.007596</td>\n",
       "      <td>0.011204</td>\n",
       "      <td>1.000000</td>\n",
       "      <td>0.011188</td>\n",
       "      <td>-0.013605</td>\n",
       "      <td>0.000305</td>\n",
       "      <td>-0.013630</td>\n",
       "      <td>-0.012802</td>\n",
       "      <td>0.006141</td>\n",
       "    </tr>\n",
       "    <tr>\n",
       "      <th>Total night charge</th>\n",
       "      <td>-0.008960</td>\n",
       "      <td>-0.005845</td>\n",
       "      <td>-0.028913</td>\n",
       "      <td>0.006064</td>\n",
       "      <td>0.007663</td>\n",
       "      <td>0.004300</td>\n",
       "      <td>0.022927</td>\n",
       "      <td>0.004301</td>\n",
       "      <td>-0.012593</td>\n",
       "      <td>-0.002056</td>\n",
       "      <td>-0.012601</td>\n",
       "      <td>0.999999</td>\n",
       "      <td>0.011188</td>\n",
       "      <td>1.000000</td>\n",
       "      <td>-0.015214</td>\n",
       "      <td>-0.012329</td>\n",
       "      <td>-0.015186</td>\n",
       "      <td>-0.009277</td>\n",
       "      <td>0.035496</td>\n",
       "    </tr>\n",
       "    <tr>\n",
       "      <th>Total intl minutes</th>\n",
       "      <td>0.009514</td>\n",
       "      <td>-0.018288</td>\n",
       "      <td>0.045871</td>\n",
       "      <td>-0.001318</td>\n",
       "      <td>0.002856</td>\n",
       "      <td>-0.010155</td>\n",
       "      <td>0.021565</td>\n",
       "      <td>-0.010157</td>\n",
       "      <td>-0.011035</td>\n",
       "      <td>0.008703</td>\n",
       "      <td>-0.011043</td>\n",
       "      <td>-0.015207</td>\n",
       "      <td>-0.013605</td>\n",
       "      <td>-0.015214</td>\n",
       "      <td>1.000000</td>\n",
       "      <td>0.032304</td>\n",
       "      <td>0.999993</td>\n",
       "      <td>-0.009640</td>\n",
       "      <td>0.068239</td>\n",
       "    </tr>\n",
       "    <tr>\n",
       "      <th>Total intl calls</th>\n",
       "      <td>0.020661</td>\n",
       "      <td>-0.024179</td>\n",
       "      <td>0.017366</td>\n",
       "      <td>0.007618</td>\n",
       "      <td>0.013957</td>\n",
       "      <td>0.008033</td>\n",
       "      <td>0.004574</td>\n",
       "      <td>0.008032</td>\n",
       "      <td>0.002541</td>\n",
       "      <td>0.017434</td>\n",
       "      <td>0.002541</td>\n",
       "      <td>-0.012353</td>\n",
       "      <td>0.000305</td>\n",
       "      <td>-0.012329</td>\n",
       "      <td>0.032304</td>\n",
       "      <td>1.000000</td>\n",
       "      <td>0.032372</td>\n",
       "      <td>-0.017561</td>\n",
       "      <td>-0.052844</td>\n",
       "    </tr>\n",
       "    <tr>\n",
       "      <th>Total intl charge</th>\n",
       "      <td>0.009546</td>\n",
       "      <td>-0.018395</td>\n",
       "      <td>0.045780</td>\n",
       "      <td>-0.001276</td>\n",
       "      <td>0.002884</td>\n",
       "      <td>-0.010092</td>\n",
       "      <td>0.021666</td>\n",
       "      <td>-0.010094</td>\n",
       "      <td>-0.011067</td>\n",
       "      <td>0.008674</td>\n",
       "      <td>-0.011074</td>\n",
       "      <td>-0.015180</td>\n",
       "      <td>-0.013630</td>\n",
       "      <td>-0.015186</td>\n",
       "      <td>0.999993</td>\n",
       "      <td>0.032372</td>\n",
       "      <td>1.000000</td>\n",
       "      <td>-0.009675</td>\n",
       "      <td>0.068259</td>\n",
       "    </tr>\n",
       "    <tr>\n",
       "      <th>Customer service calls</th>\n",
       "      <td>-0.003796</td>\n",
       "      <td>0.027572</td>\n",
       "      <td>-0.024522</td>\n",
       "      <td>-0.017824</td>\n",
       "      <td>-0.013263</td>\n",
       "      <td>-0.013423</td>\n",
       "      <td>-0.018942</td>\n",
       "      <td>-0.013427</td>\n",
       "      <td>-0.012985</td>\n",
       "      <td>0.002423</td>\n",
       "      <td>-0.012987</td>\n",
       "      <td>-0.009288</td>\n",
       "      <td>-0.012802</td>\n",
       "      <td>-0.009277</td>\n",
       "      <td>-0.009640</td>\n",
       "      <td>-0.017561</td>\n",
       "      <td>-0.009675</td>\n",
       "      <td>1.000000</td>\n",
       "      <td>0.208750</td>\n",
       "    </tr>\n",
       "    <tr>\n",
       "      <th>Churn</th>\n",
       "      <td>0.016541</td>\n",
       "      <td>0.006174</td>\n",
       "      <td>0.259852</td>\n",
       "      <td>-0.102148</td>\n",
       "      <td>-0.089728</td>\n",
       "      <td>0.205151</td>\n",
       "      <td>0.018459</td>\n",
       "      <td>0.205151</td>\n",
       "      <td>0.092796</td>\n",
       "      <td>0.009233</td>\n",
       "      <td>0.092786</td>\n",
       "      <td>0.035493</td>\n",
       "      <td>0.006141</td>\n",
       "      <td>0.035496</td>\n",
       "      <td>0.068239</td>\n",
       "      <td>-0.052844</td>\n",
       "      <td>0.068259</td>\n",
       "      <td>0.208750</td>\n",
       "      <td>1.000000</td>\n",
       "    </tr>\n",
       "  </tbody>\n",
       "</table>\n",
       "</div>"
      ],
      "text/plain": [
       "                        Account length  Area code  International plan  \\\n",
       "Account length                1.000000  -0.012463            0.024735   \n",
       "Area code                    -0.012463   1.000000            0.048551   \n",
       "International plan            0.024735   0.048551            1.000000   \n",
       "Voice mail plan               0.002918  -0.000747            0.006006   \n",
       "Number vmail messages        -0.004628  -0.001994            0.008745   \n",
       "Total day minutes             0.006216  -0.008264            0.049396   \n",
       "Total day calls               0.038470  -0.009646            0.003755   \n",
       "Total day charge              0.006214  -0.008264            0.049398   \n",
       "Total eve minutes            -0.006757   0.003580            0.019100   \n",
       "Total eve calls               0.019260  -0.011886            0.006114   \n",
       "Total eve charge             -0.006745   0.003607            0.019106   \n",
       "Total night minutes          -0.008955  -0.005825           -0.028905   \n",
       "Total night calls            -0.013176   0.016522            0.012451   \n",
       "Total night charge           -0.008960  -0.005845           -0.028913   \n",
       "Total intl minutes            0.009514  -0.018288            0.045871   \n",
       "Total intl calls              0.020661  -0.024179            0.017366   \n",
       "Total intl charge             0.009546  -0.018395            0.045780   \n",
       "Customer service calls       -0.003796   0.027572           -0.024522   \n",
       "Churn                         0.016541   0.006174            0.259852   \n",
       "\n",
       "                        Voice mail plan  Number vmail messages  \\\n",
       "Account length                 0.002918              -0.004628   \n",
       "Area code                     -0.000747              -0.001994   \n",
       "International plan             0.006006               0.008745   \n",
       "Voice mail plan                1.000000               0.956927   \n",
       "Number vmail messages          0.956927               1.000000   \n",
       "Total day minutes             -0.001684               0.000778   \n",
       "Total day calls               -0.011086              -0.009548   \n",
       "Total day charge              -0.001686               0.000776   \n",
       "Total eve minutes              0.021545               0.017562   \n",
       "Total eve calls               -0.006444              -0.005864   \n",
       "Total eve charge               0.021559               0.017578   \n",
       "Total night minutes            0.006079               0.007681   \n",
       "Total night calls              0.015553               0.007123   \n",
       "Total night charge             0.006064               0.007663   \n",
       "Total intl minutes            -0.001318               0.002856   \n",
       "Total intl calls               0.007618               0.013957   \n",
       "Total intl charge             -0.001276               0.002884   \n",
       "Customer service calls        -0.017824              -0.013263   \n",
       "Churn                         -0.102148              -0.089728   \n",
       "\n",
       "                        Total day minutes  Total day calls  Total day charge  \\\n",
       "Account length                   0.006216         0.038470          0.006214   \n",
       "Area code                       -0.008264        -0.009646         -0.008264   \n",
       "International plan               0.049396         0.003755          0.049398   \n",
       "Voice mail plan                 -0.001684        -0.011086         -0.001686   \n",
       "Number vmail messages            0.000778        -0.009548          0.000776   \n",
       "Total day minutes                1.000000         0.006750          1.000000   \n",
       "Total day calls                  0.006750         1.000000          0.006753   \n",
       "Total day charge                 1.000000         0.006753          1.000000   \n",
       "Total eve minutes                0.007043        -0.021451          0.007050   \n",
       "Total eve calls                  0.015769         0.006462          0.015769   \n",
       "Total eve charge                 0.007029        -0.021449          0.007036   \n",
       "Total night minutes              0.004323         0.022938          0.004324   \n",
       "Total night calls                0.022972        -0.019557          0.022972   \n",
       "Total night charge               0.004300         0.022927          0.004301   \n",
       "Total intl minutes              -0.010155         0.021565         -0.010157   \n",
       "Total intl calls                 0.008033         0.004574          0.008032   \n",
       "Total intl charge               -0.010092         0.021666         -0.010094   \n",
       "Customer service calls          -0.013423        -0.018942         -0.013427   \n",
       "Churn                            0.205151         0.018459          0.205151   \n",
       "\n",
       "                        Total eve minutes  Total eve calls  Total eve charge  \\\n",
       "Account length                  -0.006757         0.019260         -0.006745   \n",
       "Area code                        0.003580        -0.011886          0.003607   \n",
       "International plan               0.019100         0.006114          0.019106   \n",
       "Voice mail plan                  0.021545        -0.006444          0.021559   \n",
       "Number vmail messages            0.017562        -0.005864          0.017578   \n",
       "Total day minutes                0.007043         0.015769          0.007029   \n",
       "Total day calls                 -0.021451         0.006462         -0.021449   \n",
       "Total day charge                 0.007050         0.015769          0.007036   \n",
       "Total eve minutes                1.000000        -0.011430          1.000000   \n",
       "Total eve calls                 -0.011430         1.000000         -0.011423   \n",
       "Total eve charge                 1.000000        -0.011423          1.000000   \n",
       "Total night minutes             -0.012584        -0.002093         -0.012592   \n",
       "Total night calls                0.007586         0.007710          0.007596   \n",
       "Total night charge              -0.012593        -0.002056         -0.012601   \n",
       "Total intl minutes              -0.011035         0.008703         -0.011043   \n",
       "Total intl calls                 0.002541         0.017434          0.002541   \n",
       "Total intl charge               -0.011067         0.008674         -0.011074   \n",
       "Customer service calls          -0.012985         0.002423         -0.012987   \n",
       "Churn                            0.092796         0.009233          0.092786   \n",
       "\n",
       "                        Total night minutes  Total night calls  \\\n",
       "Account length                    -0.008955          -0.013176   \n",
       "Area code                         -0.005825           0.016522   \n",
       "International plan                -0.028905           0.012451   \n",
       "Voice mail plan                    0.006079           0.015553   \n",
       "Number vmail messages              0.007681           0.007123   \n",
       "Total day minutes                  0.004323           0.022972   \n",
       "Total day calls                    0.022938          -0.019557   \n",
       "Total day charge                   0.004324           0.022972   \n",
       "Total eve minutes                 -0.012584           0.007586   \n",
       "Total eve calls                   -0.002093           0.007710   \n",
       "Total eve charge                  -0.012592           0.007596   \n",
       "Total night minutes                1.000000           0.011204   \n",
       "Total night calls                  0.011204           1.000000   \n",
       "Total night charge                 0.999999           0.011188   \n",
       "Total intl minutes                -0.015207          -0.013605   \n",
       "Total intl calls                  -0.012353           0.000305   \n",
       "Total intl charge                 -0.015180          -0.013630   \n",
       "Customer service calls            -0.009288          -0.012802   \n",
       "Churn                              0.035493           0.006141   \n",
       "\n",
       "                        Total night charge  Total intl minutes  \\\n",
       "Account length                   -0.008960            0.009514   \n",
       "Area code                        -0.005845           -0.018288   \n",
       "International plan               -0.028913            0.045871   \n",
       "Voice mail plan                   0.006064           -0.001318   \n",
       "Number vmail messages             0.007663            0.002856   \n",
       "Total day minutes                 0.004300           -0.010155   \n",
       "Total day calls                   0.022927            0.021565   \n",
       "Total day charge                  0.004301           -0.010157   \n",
       "Total eve minutes                -0.012593           -0.011035   \n",
       "Total eve calls                  -0.002056            0.008703   \n",
       "Total eve charge                 -0.012601           -0.011043   \n",
       "Total night minutes               0.999999           -0.015207   \n",
       "Total night calls                 0.011188           -0.013605   \n",
       "Total night charge                1.000000           -0.015214   \n",
       "Total intl minutes               -0.015214            1.000000   \n",
       "Total intl calls                 -0.012329            0.032304   \n",
       "Total intl charge                -0.015186            0.999993   \n",
       "Customer service calls           -0.009277           -0.009640   \n",
       "Churn                             0.035496            0.068239   \n",
       "\n",
       "                        Total intl calls  Total intl charge  \\\n",
       "Account length                  0.020661           0.009546   \n",
       "Area code                      -0.024179          -0.018395   \n",
       "International plan              0.017366           0.045780   \n",
       "Voice mail plan                 0.007618          -0.001276   \n",
       "Number vmail messages           0.013957           0.002884   \n",
       "Total day minutes               0.008033          -0.010092   \n",
       "Total day calls                 0.004574           0.021666   \n",
       "Total day charge                0.008032          -0.010094   \n",
       "Total eve minutes               0.002541          -0.011067   \n",
       "Total eve calls                 0.017434           0.008674   \n",
       "Total eve charge                0.002541          -0.011074   \n",
       "Total night minutes            -0.012353          -0.015180   \n",
       "Total night calls               0.000305          -0.013630   \n",
       "Total night charge             -0.012329          -0.015186   \n",
       "Total intl minutes              0.032304           0.999993   \n",
       "Total intl calls                1.000000           0.032372   \n",
       "Total intl charge               0.032372           1.000000   \n",
       "Customer service calls         -0.017561          -0.009675   \n",
       "Churn                          -0.052844           0.068259   \n",
       "\n",
       "                        Customer service calls     Churn  \n",
       "Account length                       -0.003796  0.016541  \n",
       "Area code                             0.027572  0.006174  \n",
       "International plan                   -0.024522  0.259852  \n",
       "Voice mail plan                      -0.017824 -0.102148  \n",
       "Number vmail messages                -0.013263 -0.089728  \n",
       "Total day minutes                    -0.013423  0.205151  \n",
       "Total day calls                      -0.018942  0.018459  \n",
       "Total day charge                     -0.013427  0.205151  \n",
       "Total eve minutes                    -0.012985  0.092796  \n",
       "Total eve calls                       0.002423  0.009233  \n",
       "Total eve charge                     -0.012987  0.092786  \n",
       "Total night minutes                  -0.009288  0.035493  \n",
       "Total night calls                    -0.012802  0.006141  \n",
       "Total night charge                   -0.009277  0.035496  \n",
       "Total intl minutes                   -0.009640  0.068239  \n",
       "Total intl calls                     -0.017561 -0.052844  \n",
       "Total intl charge                    -0.009675  0.068259  \n",
       "Customer service calls                1.000000  0.208750  \n",
       "Churn                                 0.208750  1.000000  "
      ]
     },
     "execution_count": 7,
     "metadata": {},
     "output_type": "execute_result"
    }
   ],
   "source": [
    "clients_df.corr()"
   ]
  },
  {
   "cell_type": "code",
   "execution_count": 8,
   "metadata": {},
   "outputs": [],
   "source": [
    "del df['Voice mail plan'] #<0 with target\n",
    "del df['Number vmail messages'] #<0 with target\n",
    "del df['Total day charge']\n",
    "del df['Total eve charge']\n",
    "del df['Total night minutes']\n",
    "del df['Total intl charge']"
   ]
  },
  {
   "cell_type": "code",
   "execution_count": null,
   "metadata": {},
   "outputs": [],
   "source": []
  },
  {
   "cell_type": "code",
   "execution_count": 9,
   "metadata": {},
   "outputs": [
    {
     "name": "stdout",
     "output_type": "stream",
     "text": [
      "0.20291156303031616\n",
      "0.8370000000000001\n",
      "0.7432809983037377\n"
     ]
    }
   ],
   "source": [
    "X = df.drop(columns='Churn')\n",
    "y = df['Churn']\n",
    "\n",
    "X_train, X_test, y_train, y_test = train_test_split(X, y,\n",
    "                                       test_size=0.3)\n",
    "log_reg = GridSearchCV(make_pipeline(StandardScaler(), LogisticRegression()),\n",
    "                    param_grid={'logisticregression__C': [0.1, 10.0]},\n",
    "                    cv=2,)\n",
    "\n",
    "log_reg.fit(X_train,y_train)\n",
    "y_train_pred = log_reg.predict(X_train)\n",
    "y_test_pred = log_reg.predict(X_test)\n",
    "print(mean(cross_val_score(log_reg, X_test, y_test, scoring='f1')))\n",
    "print(mean(cross_val_score(log_reg, X_test, y_test, scoring='accuracy')))\n",
    "print(mean(cross_val_score(log_reg, X_test, y_test, scoring='roc_auc')))"
   ]
  },
  {
   "cell_type": "code",
   "execution_count": 10,
   "metadata": {},
   "outputs": [
    {
     "name": "stdout",
     "output_type": "stream",
     "text": [
      "5.35360389411049 logloss for logreg on test\n",
      "4.5598589905547975 logloss for logreg on train\n"
     ]
    }
   ],
   "source": [
    "print(log_loss(y_test_pred, y_test), 'logloss for logreg on test')\n",
    "print(log_loss(y_train_pred, y_train), 'logloss for logreg on train')"
   ]
  },
  {
   "cell_type": "code",
   "execution_count": 11,
   "metadata": {},
   "outputs": [
    {
     "name": "stdout",
     "output_type": "stream",
     "text": [
      "0.04651162790697676\n",
      "0.8480000000000001\n",
      "0.7136988482023179\n"
     ]
    }
   ],
   "source": [
    "svm = GridSearchCV(make_pipeline(StandardScaler(), SVC(kernel = 'linear')),\n",
    "                    param_grid={'svc__C': [0.1, 10.0]},\n",
    "                    cv=2,)\n",
    "\n",
    "svm.fit(X_train,y_train)\n",
    "y_train_pred_svm = svm.predict(X_train)\n",
    "y_test_pred_svm = svm.predict(X_test)\n",
    "print(mean(cross_val_score(svm, X_test, y_test, scoring='f1')))\n",
    "print(mean(cross_val_score(svm, X_test, y_test, scoring='accuracy')))\n",
    "print(mean(cross_val_score(svm, X_test, y_test, scoring='roc_auc')))"
   ]
  },
  {
   "cell_type": "code",
   "execution_count": 12,
   "metadata": {},
   "outputs": [
    {
     "name": "stdout",
     "output_type": "stream",
     "text": [
      "1.148 hingeloss for svm on test\n",
      "1.143591941705958 hingeloss for svm on train\n"
     ]
    }
   ],
   "source": [
    "print(hinge_loss(y_test_pred_svm, y_test), 'hingeloss for svm on test')\n",
    "print(hinge_loss(y_train_pred_svm, y_train), 'hingeloss for svm on train')"
   ]
  },
  {
   "cell_type": "markdown",
   "metadata": {},
   "source": [
    "Модель стала явно лучше, алгоритм стал более обученным, победить переобучение удалось удалив лз признаки"
   ]
  },
  {
   "cell_type": "markdown",
   "metadata": {},
   "source": [
    "## Часть 2. Оценка качества моделей классификации (6 баллов)."
   ]
  },
  {
   "cell_type": "markdown",
   "metadata": {},
   "source": [
    "**Задание 0 (1 балл)**. Закончите определения, начинающиеся так:\n",
    "\n",
    "    * accuracy - это доля правильных ответов... среди всех ответов\n",
    "    \n",
    "    * точность (precision) - это доля правильных ответов... класса +1 которые модель запредиктила в +1\n",
    "    \n",
    "    * полнота (recall) - это доля правильных ответов... класса +1 которые по факту +1\n",
    "    \n",
    "    * TPR - это доля правильных ответов... которые модель верно запредиктила у объектов которые +1\n",
    "    \n",
    "    \n",
    "Продолжите определения прямо в этой ячейке."
   ]
  },
  {
   "cell_type": "markdown",
   "metadata": {},
   "source": [
    "_______________________________________________________________________________________________"
   ]
  },
  {
   "cell_type": "markdown",
   "metadata": {},
   "source": [
    "В этой части вы будете работать с данными в задаче скоринга. За работу с этими данными можно получить **5 баллов.**\n",
    "\n",
    "* Колонки 0, 1, ..., 13 - анонимизированные характеристики клиентов (некоторые числовые, некоторые категориальные). \n",
    "* Target - целевая переменная: 1 - выдать кредит, 0 - не выдать кредит.\n",
    "\n",
    "На этих данных было обучено три различных алгоритма классификации и получены предсказания:\n",
    "* pred1_probs - предсказанные вероятности положительного класса, полученные алгоритмом 1.\n",
    "* pred1_classes - предсказанные алгоритмом 1 классы\n",
    "* pred2_probs, pred2_classes, pred3_probs, pred3_classes - аналогичные величины для алгоритмов 2 и 3\n",
    "\n",
    "Наша задача - оценить качество каждого из трех алгоритмов и разобраться, какой из алгоритмов лучше всего работает в данной задаче."
   ]
  },
  {
   "cell_type": "code",
   "execution_count": 13,
   "metadata": {},
   "outputs": [
    {
     "data": {
      "text/html": [
       "<div>\n",
       "<style scoped>\n",
       "    .dataframe tbody tr th:only-of-type {\n",
       "        vertical-align: middle;\n",
       "    }\n",
       "\n",
       "    .dataframe tbody tr th {\n",
       "        vertical-align: top;\n",
       "    }\n",
       "\n",
       "    .dataframe thead th {\n",
       "        text-align: right;\n",
       "    }\n",
       "</style>\n",
       "<table border=\"1\" class=\"dataframe\">\n",
       "  <thead>\n",
       "    <tr style=\"text-align: right;\">\n",
       "      <th></th>\n",
       "      <th>0</th>\n",
       "      <th>1</th>\n",
       "      <th>2</th>\n",
       "      <th>3</th>\n",
       "      <th>4</th>\n",
       "      <th>5</th>\n",
       "      <th>6</th>\n",
       "      <th>7</th>\n",
       "      <th>8</th>\n",
       "      <th>9</th>\n",
       "      <th>...</th>\n",
       "      <th>11</th>\n",
       "      <th>12</th>\n",
       "      <th>13</th>\n",
       "      <th>target</th>\n",
       "      <th>pred1_probs</th>\n",
       "      <th>pred1_classes</th>\n",
       "      <th>pred2_probs</th>\n",
       "      <th>pred2_classes</th>\n",
       "      <th>pred3_probs</th>\n",
       "      <th>pred3_classes</th>\n",
       "    </tr>\n",
       "  </thead>\n",
       "  <tbody>\n",
       "    <tr>\n",
       "      <th>0</th>\n",
       "      <td>1</td>\n",
       "      <td>22.08</td>\n",
       "      <td>11.46</td>\n",
       "      <td>2</td>\n",
       "      <td>4</td>\n",
       "      <td>4</td>\n",
       "      <td>1.585</td>\n",
       "      <td>0</td>\n",
       "      <td>0</td>\n",
       "      <td>0</td>\n",
       "      <td>...</td>\n",
       "      <td>2</td>\n",
       "      <td>100</td>\n",
       "      <td>1213</td>\n",
       "      <td>0</td>\n",
       "      <td>0.506772</td>\n",
       "      <td>1</td>\n",
       "      <td>0.610853</td>\n",
       "      <td>1</td>\n",
       "      <td>0.375494</td>\n",
       "      <td>0</td>\n",
       "    </tr>\n",
       "    <tr>\n",
       "      <th>1</th>\n",
       "      <td>0</td>\n",
       "      <td>22.67</td>\n",
       "      <td>7.00</td>\n",
       "      <td>2</td>\n",
       "      <td>8</td>\n",
       "      <td>4</td>\n",
       "      <td>0.165</td>\n",
       "      <td>0</td>\n",
       "      <td>0</td>\n",
       "      <td>0</td>\n",
       "      <td>...</td>\n",
       "      <td>2</td>\n",
       "      <td>160</td>\n",
       "      <td>1</td>\n",
       "      <td>0</td>\n",
       "      <td>0.358519</td>\n",
       "      <td>0</td>\n",
       "      <td>0.185941</td>\n",
       "      <td>0</td>\n",
       "      <td>0.200975</td>\n",
       "      <td>0</td>\n",
       "    </tr>\n",
       "    <tr>\n",
       "      <th>2</th>\n",
       "      <td>0</td>\n",
       "      <td>29.58</td>\n",
       "      <td>1.75</td>\n",
       "      <td>1</td>\n",
       "      <td>4</td>\n",
       "      <td>4</td>\n",
       "      <td>1.250</td>\n",
       "      <td>0</td>\n",
       "      <td>0</td>\n",
       "      <td>0</td>\n",
       "      <td>...</td>\n",
       "      <td>2</td>\n",
       "      <td>280</td>\n",
       "      <td>1</td>\n",
       "      <td>0</td>\n",
       "      <td>0.358753</td>\n",
       "      <td>0</td>\n",
       "      <td>0.523009</td>\n",
       "      <td>1</td>\n",
       "      <td>0.160465</td>\n",
       "      <td>0</td>\n",
       "    </tr>\n",
       "    <tr>\n",
       "      <th>3</th>\n",
       "      <td>0</td>\n",
       "      <td>21.67</td>\n",
       "      <td>11.50</td>\n",
       "      <td>1</td>\n",
       "      <td>5</td>\n",
       "      <td>3</td>\n",
       "      <td>0.000</td>\n",
       "      <td>1</td>\n",
       "      <td>1</td>\n",
       "      <td>11</td>\n",
       "      <td>...</td>\n",
       "      <td>2</td>\n",
       "      <td>0</td>\n",
       "      <td>1</td>\n",
       "      <td>1</td>\n",
       "      <td>0.408729</td>\n",
       "      <td>0</td>\n",
       "      <td>0.185941</td>\n",
       "      <td>0</td>\n",
       "      <td>0.357771</td>\n",
       "      <td>0</td>\n",
       "    </tr>\n",
       "    <tr>\n",
       "      <th>4</th>\n",
       "      <td>1</td>\n",
       "      <td>20.17</td>\n",
       "      <td>8.17</td>\n",
       "      <td>2</td>\n",
       "      <td>6</td>\n",
       "      <td>4</td>\n",
       "      <td>1.960</td>\n",
       "      <td>1</td>\n",
       "      <td>1</td>\n",
       "      <td>14</td>\n",
       "      <td>...</td>\n",
       "      <td>2</td>\n",
       "      <td>60</td>\n",
       "      <td>159</td>\n",
       "      <td>1</td>\n",
       "      <td>0.480904</td>\n",
       "      <td>0</td>\n",
       "      <td>0.526646</td>\n",
       "      <td>1</td>\n",
       "      <td>0.260169</td>\n",
       "      <td>0</td>\n",
       "    </tr>\n",
       "  </tbody>\n",
       "</table>\n",
       "<p>5 rows × 21 columns</p>\n",
       "</div>"
      ],
      "text/plain": [
       "   0      1      2  3  4  5      6  7  8   9  ...  11   12    13  target  \\\n",
       "0  1  22.08  11.46  2  4  4  1.585  0  0   0  ...   2  100  1213       0   \n",
       "1  0  22.67   7.00  2  8  4  0.165  0  0   0  ...   2  160     1       0   \n",
       "2  0  29.58   1.75  1  4  4  1.250  0  0   0  ...   2  280     1       0   \n",
       "3  0  21.67  11.50  1  5  3  0.000  1  1  11  ...   2    0     1       1   \n",
       "4  1  20.17   8.17  2  6  4  1.960  1  1  14  ...   2   60   159       1   \n",
       "\n",
       "   pred1_probs  pred1_classes  pred2_probs  pred2_classes  pred3_probs  \\\n",
       "0     0.506772              1     0.610853              1     0.375494   \n",
       "1     0.358519              0     0.185941              0     0.200975   \n",
       "2     0.358753              0     0.523009              1     0.160465   \n",
       "3     0.408729              0     0.185941              0     0.357771   \n",
       "4     0.480904              0     0.526646              1     0.260169   \n",
       "\n",
       "   pred3_classes  \n",
       "0              0  \n",
       "1              0  \n",
       "2              0  \n",
       "3              0  \n",
       "4              0  \n",
       "\n",
       "[5 rows x 21 columns]"
      ]
     },
     "execution_count": 13,
     "metadata": {},
     "output_type": "execute_result"
    }
   ],
   "source": [
    "df = pd.read_csv(\"credit_scoring_example1.csv\")\n",
    "df.head()"
   ]
  },
  {
   "cell_type": "code",
   "execution_count": 14,
   "metadata": {},
   "outputs": [
    {
     "data": {
      "text/plain": [
       "(689, 21)"
      ]
     },
     "execution_count": 14,
     "metadata": {},
     "output_type": "execute_result"
    }
   ],
   "source": [
    "df.shape"
   ]
  },
  {
   "cell_type": "markdown",
   "metadata": {},
   "source": [
    "**Задание 1.** Проверьте target на сбалансированность по классам, сделайте вывод."
   ]
  },
  {
   "cell_type": "code",
   "execution_count": 15,
   "metadata": {},
   "outputs": [
    {
     "data": {
      "text/plain": [
       "0    0.554427\n",
       "1    0.445573\n",
       "Name: target, dtype: float64"
      ]
     },
     "execution_count": 15,
     "metadata": {},
     "output_type": "execute_result"
    }
   ],
   "source": [
    "y = df['target']\n",
    "y.value_counts() / len(y)"
   ]
  },
  {
   "cell_type": "markdown",
   "metadata": {},
   "source": [
    "забаланшены +-одинаково, 0.55 доля 0 и 0,45 доля 1"
   ]
  },
  {
   "cell_type": "markdown",
   "metadata": {},
   "source": [
    "**Задание 2.** Вычислите accuracy - долю правильных ответов каждого из алгоритмов. Какой алгоритм имеет наибольшую accuracy?"
   ]
  },
  {
   "cell_type": "code",
   "execution_count": 33,
   "metadata": {},
   "outputs": [
    {
     "name": "stdout",
     "output_type": "stream",
     "text": [
      "0.6618287373004355\n",
      "0.6719883889695211\n",
      "0.6400580551523948\n"
     ]
    }
   ],
   "source": [
    "from sklearn.metrics import accuracy_score\n",
    "\n",
    "print(accuracy_score(df['target'], df['pred1_classes']))\n",
    "print(accuracy_score(df['target'], df['pred2_classes']))\n",
    "print(accuracy_score(df['target'], df['pred3_classes']))"
   ]
  },
  {
   "cell_type": "markdown",
   "metadata": {},
   "source": [
    "второй имеет наиб acc"
   ]
  },
  {
   "cell_type": "markdown",
   "metadata": {},
   "source": [
    "**Задание 3.** Теперь вычислите точность и полноту каждого из алгоритмов."
   ]
  },
  {
   "cell_type": "code",
   "execution_count": 17,
   "metadata": {},
   "outputs": [
    {
     "name": "stdout",
     "output_type": "stream",
     "text": [
      "0.4364820846905538 0.6907216494845361\n",
      "0.7296416938110749 0.6103542234332425\n",
      "0.3485342019543974 0.6903225806451613\n"
     ]
    }
   ],
   "source": [
    "from sklearn.metrics import recall_score\n",
    "from sklearn.metrics import precision_score\n",
    "\n",
    "print(recall_score(df['target'], df['pred1_classes']), precision_score(df['target'], df['pred1_classes']))\n",
    "print(recall_score(df['target'], df['pred2_classes']), precision_score(df['target'], df['pred2_classes']))\n",
    "print(recall_score(df['target'], df['pred3_classes']), precision_score(df['target'], df['pred3_classes']))"
   ]
  },
  {
   "cell_type": "markdown",
   "metadata": {},
   "source": [
    "Самым полезным инструментом в практических задачах является ***матрица ошибок***. Смотря на неё и регулируя порог, определяющий классы, мы можем достичь оптимального решения нашей задачи.\n",
    "\n",
    "**Задание 4.** Используя функцию plot_confusion_matrix для визуализации матрицы ошибок, нарисуйте матрицы ошибок всех трех алгоритмов."
   ]
  },
  {
   "cell_type": "code",
   "execution_count": 18,
   "metadata": {},
   "outputs": [],
   "source": [
    "import itertools\n",
    "from sklearn.metrics import confusion_matrix\n",
    "\n",
    "def plot_confusion_matrix(cm, classes,\n",
    "                          normalize=False,\n",
    "                          title='Confusion matrix',\n",
    "                          cmap=plt.cm.Blues):\n",
    " \n",
    "    plt.imshow(cm, interpolation='nearest', cmap=cmap)\n",
    "    plt.title(title)\n",
    "    plt.colorbar()\n",
    "    tick_marks = np.arange(len(classes))\n",
    "    plt.xticks(tick_marks, classes, rotation=45)\n",
    "    plt.yticks(tick_marks, classes)\n",
    " \n",
    "    fmt = '.2f' if normalize else 'd'\n",
    "    thresh = cm.max() / 2.\n",
    "    for i, j in itertools.product(range(cm.shape[0]), range(cm.shape[1])):\n",
    "        plt.text(j, i, format(cm[i, j], fmt),\n",
    "                 horizontalalignment=\"center\",\n",
    "                 color=\"white\" if cm[i, j] > thresh else \"black\")\n",
    " \n",
    "    plt.tight_layout()\n",
    "    plt.ylabel('True label')\n",
    "    plt.xlabel('Predicted label')"
   ]
  },
  {
   "cell_type": "code",
   "execution_count": 19,
   "metadata": {},
   "outputs": [
    {
     "data": {
      "image/png": "[encoded data removed]",
      "text/plain": [
       "<Figure size 432x288 with 2 Axes>"
      ]
     },
     "metadata": {
      "needs_background": "light"
     },
     "output_type": "display_data"
    }
   ],
   "source": [
    "plot_confusion_matrix(confusion_matrix(df['target'], df['pred1_classes'], normalize='true'), [0, 1], normalize=True)"
   ]
  },
  {
   "cell_type": "code",
   "execution_count": 20,
   "metadata": {},
   "outputs": [
    {
     "data": {
      "image/png": "[encoded data removed]",
      "text/plain": [
       "<Figure size 432x288 with 2 Axes>"
      ]
     },
     "metadata": {
      "needs_background": "light"
     },
     "output_type": "display_data"
    }
   ],
   "source": [
    "plot_confusion_matrix(confusion_matrix(df['target'], df['pred2_classes'], normalize='true'), [0, 1], normalize=True)"
   ]
  },
  {
   "cell_type": "code",
   "execution_count": 21,
   "metadata": {},
   "outputs": [
    {
     "data": {
      "image/png": "[encoded data removed]",
      "text/plain": [
       "<Figure size 432x288 with 2 Axes>"
      ]
     },
     "metadata": {
      "needs_background": "light"
     },
     "output_type": "display_data"
    }
   ],
   "source": [
    "plot_confusion_matrix(confusion_matrix(df['target'], df['pred3_classes'], normalize='true'), [0, 1], normalize=True)"
   ]
  },
  {
   "cell_type": "markdown",
   "metadata": {},
   "source": [
    "Давайте определимся с целями нашего предсказания:\n",
    "    \n",
    "* **Вариант 1**: хотим выдать кредит максимальному числу людей среди тех, кто мог бы его вернуть. При этом не хотим много ошибаться (общее число ошибок не более 35%).\n",
    "  \n",
    "1) Мы не хотим, чтобы алгоритм много ошибался: accuracy $\\geq$ 0.65.\n",
    "\n",
    "2) Кроме того полнота должна быть как можно больше (число в левом нижнем квадрате матрицы ошибок минимально).\n",
    "\n",
    "**Задание 5.** Для каждого алгоритма найдите такой порог принятия решения, чтобы выполнялись перечисленные выше условия. Какой максимальной полноты можно добиться у каждой из моделей при условии, что accuracy $\\geq$ 0.65?\n",
    "\n",
    "**Комментарий:** порог можно искать в цикле с небольшим шагом."
   ]
  },
  {
   "cell_type": "code",
   "execution_count": 166,
   "metadata": {},
   "outputs": [],
   "source": [
    "from sklearn.metrics import f1_score\n",
    "def selection(y_true, y_pred, mm = 0.65):\n",
    "    best_alpha = 0\n",
    "    acc_value = 0\n",
    "    max_value = 0\n",
    "    metric = 'recall'\n",
    "    for i in range(1, 1000):\n",
    "        value = 1/i\n",
    "        y_pred = (y_pred >= value).astype(bool)\n",
    "        if accuracy_score(y_true, y_pred) >= mm:\n",
    "            best_alpha = value\n",
    "            max_value = recall_score(y_true, y_pred)\n",
    "            acc_value = accuracy_score(y_true, y_pred)\n",
    "            \n",
    "        else:\n",
    "            break\n",
    "        \n",
    "        return [best_alpha, metric, max_value, acc_value]\n",
    "    \n",
    "def selection_prec(y_true, y_pred, mm = 0.65):\n",
    "    best_alpha = 0\n",
    "    acc_value = 0\n",
    "    max_value = 0\n",
    "    metric = 'precision'\n",
    "    for i in range(1, 1000):\n",
    "        value = 1/i\n",
    "        y_pred = (y_pred >= value).astype(bool)\n",
    "        if accuracy_score(y_true, y_pred) >= mm:\n",
    "            if recall_score(y_true, y_pred) > max_value:\n",
    "                best_alpha = value\n",
    "                max_value = precision_score(y_true, y_pred)\n",
    "                acc_value = accuracy_score(y_true, y_pred)                   \n",
    "            \n",
    "        else:\n",
    "            break\n",
    "        \n",
    "        return [best_alpha, metric, max_value, acc_value]\n",
    "\n",
    "def selection_f1(y_true, y_pred, mm = 0.65):\n",
    "    best_alpha = 0\n",
    "    acc_value = 0\n",
    "    max_value = 0\n",
    "    metric = 'f1'\n",
    "    for i in range(1, 1000):\n",
    "        value = 1/i\n",
    "        y_pred = (y_pred >= value).astype(bool)\n",
    "        if accuracy_score(y_true, y_pred) >= mm:\n",
    "            if recall_score(y_true, y_pred) > max_value:\n",
    "                best_alpha = value\n",
    "                max_value = f1_score(y_true, y_pred)\n",
    "                acc_value = accuracy_score(y_true, y_pred)                    \n",
    "            \n",
    "        else:\n",
    "            break\n",
    "        \n",
    "        return [best_alpha, metric, max_value, acc_value]"
   ]
  },
  {
   "cell_type": "code",
   "execution_count": 141,
   "metadata": {},
   "outputs": [
    {
     "name": "stdout",
     "output_type": "stream",
     "text": [
      "[1.0, 'recall', 0.4364820846905538, 0.6618287373004355]\n",
      "[1.0, 'recall', 0.7296416938110749, 0.6719883889695211]\n",
      "None\n"
     ]
    }
   ],
   "source": [
    "print(selection(df['target'], df['pred1_classes']))\n",
    "print(selection(df['target'], df['pred2_classes']))\n",
    "print(selection(df['target'], df['pred3_classes']))"
   ]
  },
  {
   "cell_type": "markdown",
   "metadata": {},
   "source": [
    "**Задание 6.** Визуализируйте матрицу ошибок для каждого из трех алгоритмов с подобранным порогом."
   ]
  },
  {
   "cell_type": "code",
   "execution_count": 142,
   "metadata": {},
   "outputs": [
    {
     "data": {
      "image/png": "[encoded data removed]",
      "text/plain": [
       "<Figure size 432x288 with 2 Axes>"
      ]
     },
     "metadata": {
      "needs_background": "light"
     },
     "output_type": "display_data"
    }
   ],
   "source": [
    "plot_confusion_matrix(confusion_matrix(df['target'], df['pred1_classes'] >= list(selection(df['target'], df['pred1_classes']))[0], normalize = 'true'), [0,1], normalize = True)"
   ]
  },
  {
   "cell_type": "code",
   "execution_count": 143,
   "metadata": {},
   "outputs": [
    {
     "data": {
      "image/png": "[encoded data removed]",
      "text/plain": [
       "<Figure size 432x288 with 2 Axes>"
      ]
     },
     "metadata": {
      "needs_background": "light"
     },
     "output_type": "display_data"
    }
   ],
   "source": [
    "plot_confusion_matrix(confusion_matrix(df['target'], df['pred2_classes'] >= list(selection(df['target'], df['pred2_classes']))[0], normalize = 'true'), [0,1], normalize = True)"
   ]
  },
  {
   "cell_type": "markdown",
   "metadata": {},
   "source": [
    "**Выводы:** 2 модель лучше всего справилась, рекол = 0.72"
   ]
  },
  {
   "cell_type": "markdown",
   "metadata": {},
   "source": [
    "Наша цель может звучать и по-другому:\n",
    "    \n",
    "* **Вариант 2**: среди тех, кому модель выдает кредит, должно быть меньше всего ошибок (мало людей, кто его на самом деле не вернет - на них будем терять деньги). \n",
    "    При этом не хотим много ошибаться (общее число ошибок не более 35%).\n",
    "  \n",
    "1) Мы не хотим, чтобы алгоритм много ошибался: accuracy $\\geq$ 0.65.\n",
    "\n",
    "2) Кроме того точность должна быть как можно больше (число в правом верхнем квадрате матрицы ошибок минимально).\n",
    "\n",
    "**Задание 7.** Для каждого алгоритма найдите порог принятия решения, чтобы выполнялись перечисленные выше условия. Какой максимальной точности можно добиться у каждой из моделей при условии, что accuracy $\\geq$ 0.65? "
   ]
  },
  {
   "cell_type": "code",
   "execution_count": 144,
   "metadata": {},
   "outputs": [
    {
     "name": "stdout",
     "output_type": "stream",
     "text": [
      "[1.0, 'precision', 0.6907216494845361, 0.6618287373004355]\n",
      "[1.0, 'precision', 0.6103542234332425, 0.6719883889695211]\n",
      "None\n"
     ]
    }
   ],
   "source": [
    "print(selection_prec(df['target'], df['pred1_classes']))\n",
    "print(selection_prec(df['target'], df['pred2_classes']))\n",
    "print(selection_prec(df['target'], df['pred3_classes']))"
   ]
  },
  {
   "cell_type": "markdown",
   "metadata": {},
   "source": [
    "**Задание 8.** Нарисуйте матрицы ошибок для каждого из алгоритмов с найденными значениями порога. Какая модель лучше всех справилась с этой задачей?"
   ]
  },
  {
   "cell_type": "code",
   "execution_count": 145,
   "metadata": {},
   "outputs": [
    {
     "data": {
      "image/png": "[encoded data removed]",
      "text/plain": [
       "<Figure size 432x288 with 2 Axes>"
      ]
     },
     "metadata": {
      "needs_background": "light"
     },
     "output_type": "display_data"
    }
   ],
   "source": [
    "plot_confusion_matrix(confusion_matrix(df['target'], df['pred1_classes'] >= list(selection_prec(df['target'], df['pred1_classes']))[0], normalize = 'true'), [0,1], normalize = True)"
   ]
  },
  {
   "cell_type": "code",
   "execution_count": 146,
   "metadata": {},
   "outputs": [
    {
     "data": {
      "image/png": "[encoded data removed]",
      "text/plain": [
       "<Figure size 432x288 with 2 Axes>"
      ]
     },
     "metadata": {
      "needs_background": "light"
     },
     "output_type": "display_data"
    }
   ],
   "source": [
    "plot_confusion_matrix(confusion_matrix(df['target'], df['pred2_classes'] >= list(selection_prec(df['target'], df['pred2_classes']))[0], normalize = 'true'), [0,1], normalize = True)"
   ]
  },
  {
   "cell_type": "markdown",
   "metadata": {},
   "source": [
    "Также (**Вариант 3**) можно потребовать, чтобы и точность, и полнота были высокими, то есть обе ошибки в матрице ошибок были маленькие. Как вариант - можно максимизировать F1-score (среднее гармоническое между точностью и полнотой).\n",
    "\n",
    "**Задание 9.** Найдите пороги для достижения максимального F1-score для каждой из трех моделей и нарисуйте матрицы ошибок. Какая модель решает поставленную задачу лучше остальных?"
   ]
  },
  {
   "cell_type": "code",
   "execution_count": 147,
   "metadata": {},
   "outputs": [
    {
     "name": "stdout",
     "output_type": "stream",
     "text": [
      "[1.0, 'f1', 0.5349301397205589, 0.6618287373004355]\n",
      "[1.0, 'f1', 0.6646884272997032, 0.6719883889695211]\n",
      "None\n"
     ]
    }
   ],
   "source": [
    "print(selection_f1(df['target'], df['pred1_classes']))\n",
    "print(selection_f1(df['target'], df['pred2_classes']))\n",
    "print(selection_f1(df['target'], df['pred3_classes']))"
   ]
  },
  {
   "cell_type": "markdown",
   "metadata": {},
   "source": [
    "#### Кстати\n",
    "\n",
    "В python есть удобная функция classification_report, которая выводит значения нескольких метрик."
   ]
  },
  {
   "cell_type": "code",
   "execution_count": 148,
   "metadata": {},
   "outputs": [
    {
     "name": "stdout",
     "output_type": "stream",
     "text": [
      "              precision    recall  f1-score   support\n",
      "\n",
      "           0       0.65      0.84      0.73       382\n",
      "           1       0.69      0.44      0.53       307\n",
      "\n",
      "    accuracy                           0.66       689\n",
      "   macro avg       0.67      0.64      0.63       689\n",
      "weighted avg       0.67      0.66      0.65       689\n",
      "\n"
     ]
    }
   ],
   "source": [
    "from sklearn.metrics import classification_report\n",
    "\n",
    "print(classification_report(df['target'],df['pred1_classes']))"
   ]
  },
  {
   "cell_type": "markdown",
   "metadata": {},
   "source": [
    "### Обучим свою модель для предсказания target.\n",
    "\n",
    "**Задание 10.** Отнормируйте признаки в задаче и обучите логистическую регрессию предсказывать target."
   ]
  },
  {
   "cell_type": "code",
   "execution_count": 158,
   "metadata": {},
   "outputs": [],
   "source": [
    "X = df.drop(columns='target')\n",
    "y = df['target']\n",
    "\n",
    "log_reg = LogisticRegression(max_iter = 100000)\n",
    "\n",
    "StandardScaler().fit_transform(X)\n",
    "\n",
    "log_reg.fit(X, y)\n",
    "y_pred = log_reg.predict_proba(X)[:, 1]"
   ]
  },
  {
   "cell_type": "markdown",
   "metadata": {},
   "source": [
    "**Задание 11.** Подберите порог для перевода предсказания в классы, чтобы максимизировать:\n",
    "    а) точность \n",
    "    б) полноту \n",
    "    в) f1-score. \n",
    "Лучше ли логистическая регрессия справилась с задачей, чем три готовые модели, предсказания которых мы анализировали выше?"
   ]
  },
  {
   "cell_type": "code",
   "execution_count": 167,
   "metadata": {},
   "outputs": [
    {
     "name": "stdout",
     "output_type": "stream",
     "text": [
      "[1.0, 'recall', 0.003257328990228013, 0.555878084179971]\n",
      "[1.0, 'precision', 1.0, 0.555878084179971]\n",
      "[1.0, 'f1', 0.006493506493506494, 0.555878084179971]\n"
     ]
    }
   ],
   "source": [
    "print(selection(y, y_pred, mm = 0))\n",
    "print(selection_prec(y, y_pred, mm = 0))\n",
    "print(selection_f1(y, y_pred, mm = 0))"
   ]
  },
  {
   "cell_type": "markdown",
   "metadata": {},
   "source": [
    "по prec, acc и f1 логрег смогла справиться лучше."
   ]
  },
  {
   "cell_type": "code",
   "execution_count": null,
   "metadata": {},
   "outputs": [],
   "source": []
  }
 ],
 "metadata": {
  "kernelspec": {
   "display_name": "Python 3 (ipykernel)",
   "language": "python",
   "name": "python3"
  },
  "language_info": {
   "codemirror_mode": {
    "name": "ipython",
    "version": 3
   },
   "file_extension": ".py",
   "mimetype": "text/x-python",
   "name": "python",
   "nbconvert_exporter": "python",
   "pygments_lexer": "ipython3",
   "version": "3.9.7"
  }
 },
 "nbformat": 4,
 "nbformat_minor": 2
}
