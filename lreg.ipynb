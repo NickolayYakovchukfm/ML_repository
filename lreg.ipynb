{
 "cells": [
  {
   "cell_type": "code",
   "execution_count": 31,
   "id": "d0ac8eb8",
   "metadata": {},
   "outputs": [],
   "source": [
    "import numpy as np\n",
    "from sklearn.datasets import make_regression"
   ]
  },
  {
   "cell_type": "code",
   "execution_count": 32,
   "id": "2c40787e",
   "metadata": {},
   "outputs": [
    {
     "name": "stdout",
     "output_type": "stream",
     "text": [
      "(10000, 100) (10000,)\n"
     ]
    }
   ],
   "source": [
    "X, y = make_regression(n_samples = 10000)\n",
    "print(X.shape, y.shape)"
   ]
  },
  {
   "cell_type": "code",
   "execution_count": 33,
   "id": "28f95116",
   "metadata": {},
   "outputs": [
    {
     "name": "stdout",
     "output_type": "stream",
     "text": [
      "1.9649258543139143e-25\n"
     ]
    },
    {
     "data": {
      "text/plain": [
       "array([ 1.17165748e-14,  8.49848141e+00, -1.24344979e-14, -4.26325641e-14,\n",
       "       -3.55271368e-14, -1.42108547e-14,  3.73034936e-14,  9.41469125e-14,\n",
       "        9.94759830e-14, -4.70734562e-14, -3.44169138e-14,  2.06047317e+00,\n",
       "       -3.10862447e-15,  5.68434189e-14,  6.66133815e-15, -8.65973959e-15,\n",
       "        7.68274333e-14,  1.33226763e-15, -4.70734562e-14,  2.66453526e-14,\n",
       "        1.86517468e-14,  2.33146835e-14, -5.95079541e-14,  7.50510765e-14,\n",
       "       -1.77635684e-15, -2.66453526e-14,  1.24232675e+00,  4.57411886e-14,\n",
       "       -6.17284002e-14, -2.93098879e-14, -2.66453526e-14, -9.21485110e-14,\n",
       "        2.53130850e-14,  3.78586051e-14, -1.73194792e-14, -1.59872116e-14,\n",
       "        5.19584376e-14, -6.08402217e-14,  2.24265051e-14, -1.42108547e-14,\n",
       "        7.10542736e-15,  7.99360578e-15,  4.68514116e-14, -1.06581410e-14,\n",
       "        4.17443857e-14,  5.76205750e-14, -8.88178420e-15, -1.24344979e-14,\n",
       "        1.86517468e-14,  3.99680289e-14,  4.79616347e-14,  5.15143483e-14,\n",
       "        3.04201109e-14, -4.44089210e-15,  4.08562073e-14,  8.34631721e+01,\n",
       "       -4.04121181e-14, -6.92779167e-14, -1.06581410e-14,  2.07478938e+00,\n",
       "        2.02060590e-14,  3.68594044e-14,  2.39808173e-14, -1.77635684e-15,\n",
       "       -4.52970994e-14, -3.55271368e-14,  5.26245714e-14, -3.04201109e-14,\n",
       "       -2.85327317e-14, -4.32986980e-14, -6.75015599e-14, -1.33226763e-15,\n",
       "       -3.37507799e-14, -7.10542736e-15,  2.88657986e-14,  3.48610030e-14,\n",
       "        2.56991020e+01,  3.24185123e-14, -8.43769499e-15,  0.00000000e+00,\n",
       "       -6.30606678e-14,  1.09690035e-13,  4.08562073e-14,  8.22382698e+01,\n",
       "        4.62061400e+01,  1.77635684e-14, -9.94759830e-14,  1.37667655e-14,\n",
       "        8.88178420e-15, -3.55271368e-15,  1.99840144e-14, -6.66133815e-14,\n",
       "       -2.35367281e-14,  1.20459198e-14, -4.88498131e-14, -2.04281037e-14,\n",
       "        5.99520433e-15,  3.44326478e+01,  9.20986445e+01, -1.15463195e-14])"
      ]
     },
     "execution_count": 33,
     "metadata": {},
     "output_type": "execute_result"
    }
   ],
   "source": [
    "from sklearn.linear_model import LinearRegression\n",
    "from sklearn.metrics import mean_squared_error\n",
    "\n",
    "reg = LinearRegression().fit(X, y)\n",
    "print(mean_squared_error(y, reg.predict(X)))\n",
    "mse_lr = mean_squared_error(y, reg.predict(X))\n",
    "reg.coef_"
   ]
  },
  {
   "cell_type": "code",
   "execution_count": 34,
   "id": "cf4516d8",
   "metadata": {},
   "outputs": [
    {
     "name": "stdout",
     "output_type": "stream",
     "text": [
      "2.636399770502014e-12\n"
     ]
    },
    {
     "data": {
      "text/plain": [
       "array([ 7.22169037e-10,  8.49848128e+00,  4.86878603e-09, -4.54742835e-09,\n",
       "       -5.15954480e-08, -1.20798503e-08,  6.32997830e-09,  2.72372458e-08,\n",
       "       -5.24985698e-08,  1.04736326e-08,  5.65644844e-09,  2.06047318e+00,\n",
       "       -2.62468179e-08, -3.40183184e-08, -3.25077306e-08, -1.27810752e-08,\n",
       "       -4.98927800e-08, -1.05170541e-08, -7.92504099e-09,  4.19742303e-08,\n",
       "        4.48007234e-08, -4.04592835e-08, -2.24113825e-09, -2.80491621e-08,\n",
       "       -3.97917660e-08,  1.90763280e-08,  1.24232677e+00, -3.21758048e-10,\n",
       "       -1.58536398e-08,  1.53130037e-08,  4.25664120e-08, -2.82739786e-08,\n",
       "       -9.03270073e-10,  3.30930245e-09,  6.76207787e-09,  1.45511738e-08,\n",
       "        1.73293625e-09, -2.94432879e-08, -9.33066333e-09,  5.87388978e-08,\n",
       "       -4.10548343e-08,  2.48008419e-09,  1.23832736e-08, -7.03234528e-09,\n",
       "       -2.45398186e-09, -3.91827775e-08,  1.48582918e-09,  2.79700866e-08,\n",
       "        1.28879480e-08,  4.54728370e-09, -2.47559418e-08,  1.37848606e-08,\n",
       "        2.21782395e-08,  1.48480730e-08, -1.25693086e-08,  8.34631713e+01,\n",
       "       -3.75018717e-08, -2.32836238e-08,  3.84108033e-08,  2.07478933e+00,\n",
       "        5.53156369e-08,  6.50397994e-08, -5.57929122e-08,  3.43224962e-08,\n",
       "        3.56061040e-08,  6.44739563e-08, -2.14082902e-08,  5.42347027e-09,\n",
       "       -3.97435978e-08,  2.99414323e-08,  2.68172684e-08,  1.99725981e-08,\n",
       "       -4.96767736e-08, -2.26321587e-08,  1.18892746e-08,  2.38985464e-08,\n",
       "        2.56991018e+01, -2.78410338e-08,  1.14124927e-08, -2.11496989e-08,\n",
       "       -1.92725385e-08, -2.81128817e-08, -2.59266987e-08,  8.22382689e+01,\n",
       "        4.62061395e+01,  1.60265849e-08, -6.20934478e-10, -4.78692869e-08,\n",
       "        2.50866002e-08, -2.69666238e-08,  1.79106970e-09,  1.74005151e-09,\n",
       "        2.42372713e-08,  5.02492779e-09, -4.55815481e-08,  1.61815909e-08,\n",
       "       -2.50493918e-08,  3.44326474e+01,  9.20986436e+01,  2.79240774e-08])"
      ]
     },
     "execution_count": 34,
     "metadata": {},
     "output_type": "execute_result"
    }
   ],
   "source": [
    "from sklearn.linear_model import SGDRegressor\n",
    "reg = SGDRegressor(alpha=0.00000001).fit(X, y)\n",
    "print(mean_squared_error(y, reg.predict(X)))\n",
    "reg.coef_"
   ]
  },
  {
   "cell_type": "markdown",
   "id": "9239211f",
   "metadata": {},
   "source": [
    "Задание 1 (0.5 балла). make_regression изначально создает линейную проблему, поэтому LinearRegression хорошо ее предсказывает. Также alpha гиперпараметр подобран ПЛОХО."
   ]
  },
  {
   "cell_type": "markdown",
   "id": "87cba194",
   "metadata": {},
   "source": [
    "Задание 2 (0.5 балла)."
   ]
  },
  {
   "cell_type": "code",
   "execution_count": 35,
   "id": "dddace48",
   "metadata": {},
   "outputs": [
    {
     "name": "stdout",
     "output_type": "stream",
     "text": [
      "2.636399770501818e-12\n"
     ]
    }
   ],
   "source": [
    "const = abs(mean_squared_error(y, reg.predict(X)) - mse_lr)\n",
    "print(const)"
   ]
  },
  {
   "cell_type": "code",
   "execution_count": 39,
   "id": "b77b02b1",
   "metadata": {
    "scrolled": false
   },
   "outputs": [
    {
     "name": "stdout",
     "output_type": "stream",
     "text": [
      "3.991213557809933e-26 132 1e-132\n"
     ]
    }
   ],
   "source": [
    "const = abs(mean_squared_error(y, reg.predict(X)) - mse_lr)\n",
    "\n",
    "for alph in range(1000):\n",
    "    reg = SGDRegressor(alpha=1/(10**(alph))).fit(X, y)\n",
    "    a = abs(mean_squared_error(y, reg.predict(X)) - mse_lr)                  \n",
    "    if a < const:\n",
    "        num = alph                   \n",
    "        const = a\n",
    "print(const, num, 1/(10**(num)))"
   ]
  },
  {
   "cell_type": "code",
   "execution_count": 40,
   "id": "ab22c984",
   "metadata": {},
   "outputs": [
    {
     "name": "stdout",
     "output_type": "stream",
     "text": [
      "1.9649258543139143e-25\n"
     ]
    }
   ],
   "source": [
    "reg = LinearRegression().fit(X, y)\n",
    "print(mean_squared_error(y, reg.predict(X)))"
   ]
  },
  {
   "cell_type": "code",
   "execution_count": 41,
   "id": "a9265735",
   "metadata": {},
   "outputs": [
    {
     "name": "stdout",
     "output_type": "stream",
     "text": [
      "8.000499440940884e-25\n"
     ]
    }
   ],
   "source": [
    "reg = SGDRegressor(alpha=1e-132).fit(X, y)\n",
    "print(mean_squared_error(y, reg.predict(X)))"
   ]
  },
  {
   "cell_type": "markdown",
   "id": "190a94de",
   "metadata": {},
   "source": [
    "Был подобран гиперпараметр alpha = 1e-132 методом перебора порядков."
   ]
  },
  {
   "cell_type": "markdown",
   "id": "3ab7c3d9",
   "metadata": {},
   "source": [
    "Задание 3 (4 балла)"
   ]
  },
  {
   "cell_type": "code",
   "execution_count": 264,
   "id": "cb5fdec5",
   "metadata": {},
   "outputs": [],
   "source": [
    "def MSE(a, b):\n",
    "    return 1 / a.shape[0] * (a - b).dot(a - b) "
   ]
  },
  {
   "cell_type": "code",
   "execution_count": 307,
   "id": "33abc8d1",
   "metadata": {},
   "outputs": [],
   "source": [
    "class LinearRegression(object):\n",
    "    def __init__(self, alpha=0.1, l_ratio=0.001, tol=0.00000001, max_iter=200000):\n",
    "        '''\n",
    "        Для начала необходимо инициализировать параметры\n",
    "        alpha - это learning rate или шаг обучения\n",
    "        l_ratio - параметр регуляризации\n",
    "        tol - значение для критерия останова\n",
    "        max_iter - максимальное количество итераций обучения\n",
    "        '''\n",
    "        self.alpha = alpha\n",
    "        self.l_ratio = l_ratio\n",
    "        self.tol = tol\n",
    "        self.max_iter = max_iter\n",
    "             \n",
    "    def fit(self, X, y):\n",
    "        '''\n",
    "        Метод для обучения линейной регрессии\n",
    "        X - матрица признаков\n",
    "        y - вектор правильных ответов\n",
    "        '''\n",
    "        \n",
    "        w = np.ones(X.shape[1])\n",
    "        b = np.ones(y.shape[0])\n",
    "        \n",
    "        for _ in range(self.max_iter): \n",
    "            y_pred = X.dot(w) + b\n",
    "            \n",
    "            w_1 = w\n",
    "            y_pred_1 = y_pred\n",
    "            X_1 = X\n",
    "            b_1 = b\n",
    "            \n",
    "            w_gradient = 2 / y.shape[0] * ((y_pred - y).dot(X))\n",
    "            b_gradient = 2 / y.shape[0] * np.mean(y_pred - y)\n",
    "            \n",
    "            \n",
    "            w = w - self.alpha * w_gradient\n",
    "            b = b - self.alpha * b_gradient\n",
    "            \n",
    "            \n",
    "            if abs(MSE(X_1.dot(w_1) + b_1, y) - MSE(X.dot(w) + b, y)) < self.tol:\n",
    "                break\n",
    "                \n",
    "        self.w = w\n",
    "        self.b = b[0]\n",
    "   \n",
    "    def predict(self, X):\n",
    "        '''\n",
    "        Метод для предсказаний линейной регрессии\n",
    "        X - матрица признаков\n",
    "        '''\n",
    "        return X.dot(self.w) + self.b\n",
    "        "
   ]
  },
  {
   "cell_type": "code",
   "execution_count": 308,
   "id": "d69fbdda",
   "metadata": {
    "scrolled": true
   },
   "outputs": [
    {
     "name": "stdout",
     "output_type": "stream",
     "text": [
      "You are amazing! Great work!\n"
     ]
    }
   ],
   "source": [
    "my_reg = LinearRegression()\n",
    "my_reg.fit(X, y)\n",
    "\n",
    "#mmse = MSE(y, my_reg.predict(X))\n",
    "#for alpha in range(10, 10000, 100):\n",
    "#    for max_iter in range(10000, 10000000, 50000):\n",
    "#        my_reg = LinearRegression(alpha = 1 / alpha, max_iter = max_iter)\n",
    "#        my_reg.fix(X, y)\n",
    "#        if MSE(y, my_reg.predict(X)) < mmse:\n",
    "#            mmse = MSE(y, my_reg.predict(X))\n",
    "#            mmax_iter = max_iter\n",
    "#            malpha = alpha\n",
    "#        if mmse < 1e-3:\n",
    "#            break\n",
    "#print(malpha, mmax_iter)\n",
    "    \n",
    "        \n",
    "        \n",
    "assert mean_squared_error(y, my_reg.predict(X)) < 1e-3\n",
    "print('You are amazing! Great work!')"
   ]
  },
  {
   "cell_type": "markdown",
   "id": "f16b411f",
   "metadata": {},
   "source": [
    "Ну и вот за 3 часа подбора параметров вплоть до миллиона итераций(в этом случае ошибка была 1e-18) остановился на этих....... Хотел даже на ночь оставить этот подбор параметров(не проверял может он неверно написан, писал его когда ждал миллион итераций) но повезло))))"
   ]
  },
  {
   "cell_type": "markdown",
   "id": "17b4b55e",
   "metadata": {},
   "source": [
    "*Задание 4 (2 балла)*. Добавьте l1 (первый и второй варианты) или l2 (третий и четвертый варианты) регуляризацию."
   ]
  },
  {
   "cell_type": "markdown",
   "id": "3406c634",
   "metadata": {},
   "source": [
    "-------------"
   ]
  },
  {
   "cell_type": "code",
   "execution_count": 497,
   "id": "1d767af4",
   "metadata": {},
   "outputs": [],
   "source": [
    "def MSE(a, b):\n",
    "        return 1 / a.shape[0] * (a - b).dot(a - b)"
   ]
  },
  {
   "cell_type": "code",
   "execution_count": 691,
   "id": "495c7b73",
   "metadata": {},
   "outputs": [],
   "source": [
    "class LinearRegression(object):\n",
    "    def __init__(self, alpha=0.3, l_ratio=0.00000001, tol=0.0000001, max_iter=60000):\n",
    "        '''\n",
    "        Для начала необходимо инициализировать параметры\n",
    "        alpha - это learning rate или шаг обучения\n",
    "        l_ratio - параметр регуляризации\n",
    "        tol - значение для критерия останова\n",
    "        max_iter - максимальное количество итераций обучения\n",
    "        '''\n",
    "        self.alpha = alpha\n",
    "        self.l_ratio = l_ratio\n",
    "        self.tol = tol\n",
    "        self.max_iter = max_iter\n",
    "        \n",
    "             \n",
    "    def fit(self, X, y):\n",
    "        '''\n",
    "        Метод для обучения линейной регрессии\n",
    "        X - матрица признаков\n",
    "        y - вектор правильных ответов\n",
    "        '''\n",
    "        \n",
    "        w = np.ones(X.shape[1])\n",
    "        b = np.ones(y.shape[0])\n",
    "        \n",
    "        for _ in range(self.max_iter): \n",
    "            \n",
    "            y_pred = X.dot(w) + b\n",
    "            \n",
    "            w_1 = w\n",
    "            y_pred_1 = y_pred\n",
    "            X_1 = X\n",
    "            b_1 = b\n",
    "            \n",
    "            w_gradient = 2 / y.shape[0] * ((y_pred - y).dot(X)) + 2 * self.l_ratio * w\n",
    "            b_gradient = 2 / y.shape[0] * np.mean(y_pred - y)\n",
    "            \n",
    "            \n",
    "            w = w - self.alpha * w_gradient\n",
    "            b = b - self.alpha * b_gradient\n",
    "            \n",
    "            \n",
    "            if abs(MSE(X_1.dot(w_1) + b_1, y) - MSE(X.dot(w) + b, y)) < self.tol:\n",
    "                break\n",
    "                \n",
    "        self.w = w\n",
    "        self.b = b[0]\n",
    "   \n",
    "    def predict(self, X):\n",
    "        '''\n",
    "        Метод для предсказаний линейной регрессии\n",
    "        X - матрица признаков\n",
    "        '''\n",
    "        return X.dot(self.w) + self.b\n",
    "        "
   ]
  },
  {
   "cell_type": "code",
   "execution_count": 692,
   "id": "e906f254",
   "metadata": {},
   "outputs": [
    {
     "name": "stdout",
     "output_type": "stream",
     "text": [
      "You are amazing! Great work!\n"
     ]
    }
   ],
   "source": [
    "my_reg = LinearRegression()\n",
    "my_reg.fit(X, y)\n",
    "assert mean_squared_error(y, my_reg.predict(X)) < 1e-3\n",
    "print('You are amazing! Great work!')"
   ]
  },
  {
   "cell_type": "markdown",
   "id": "8535a1be",
   "metadata": {},
   "source": [
    "*Задание 5 (1 балл)*. Обучите линейную регрессию из коробки"
   ]
  },
  {
   "cell_type": "code",
   "execution_count": 385,
   "id": "5269c9f3",
   "metadata": {},
   "outputs": [],
   "source": [
    "from sklearn.linear_model import Ridge\n",
    "from sklearn.linear_model import LinearRegression\n",
    "from sklearn.metrics import mean_squared_error"
   ]
  },
  {
   "cell_type": "code",
   "execution_count": 516,
   "id": "e4dc30c4",
   "metadata": {},
   "outputs": [],
   "source": [
    "X, y = make_regression(n_samples = 10000)\n",
    "reg = LinearRegression()"
   ]
  },
  {
   "cell_type": "code",
   "execution_count": 758,
   "id": "2cf401fe",
   "metadata": {},
   "outputs": [
    {
     "name": "stdout",
     "output_type": "stream",
     "text": [
      "[0.99940394 0.99940394 0.99940394 ... 0.99940394 0.99940394 0.99940394]\n",
      "[[ 7.51231274e-01  2.55234470e-01 -1.43850828e+00 ... -6.91283068e-01\n",
      "   4.29036998e-01 -1.12316699e+00]\n",
      " [ 1.08680982e+00  2.76458472e-01  1.12719449e+00 ... -1.12173464e-01\n",
      "  -3.43447635e-02  2.96581951e-01]\n",
      " [ 1.25643090e+00 -4.72871141e-01  2.41187103e-01 ... -1.74057336e+00\n",
      "   1.46462092e-01  6.89595389e-01]\n",
      " ...\n",
      " [-1.18261091e+00 -1.69532729e-01  4.96557727e-02 ... -2.38959626e+00\n",
      "  -9.66144717e-01  1.45202096e+00]\n",
      " [ 4.21749448e-01 -1.93843762e+00 -2.14314614e+00 ... -1.44421201e-01\n",
      "   1.03129093e+00 -9.25627507e-01]\n",
      " [-6.55126695e-04  3.75008773e-01 -1.01075317e+00 ...  3.53360614e-01\n",
      "   2.06782539e-01 -1.56771741e+00]]\n",
      "[-5.39116446e-02 -2.58098241e-02 -5.34491102e-03 -4.69010973e-02\n",
      "  3.47697626e+01 -4.15015073e-02  4.44534164e-02 -2.87032483e-02\n",
      " -1.28880455e-02 -5.03057398e-03  7.86638109e+01  8.71601990e-03\n",
      "  3.22457222e+01 -4.57527247e-02 -1.99472032e-03  2.46366878e-02\n",
      "  1.13904094e-02 -3.90471106e-02 -4.28391297e-02  3.35346773e-02\n",
      " -5.79521966e-02  9.45142884e-04  1.16825605e-02 -6.11455765e-02\n",
      "  3.72947091e-03 -1.45823160e-02 -2.09134024e-02  1.52704329e-02\n",
      "  9.01809922e-03 -7.92987504e-02 -3.73339566e-03 -2.17599649e-02\n",
      "  2.52280908e-02  1.27383751e+00  1.74561006e-02  4.20353491e+01\n",
      " -9.53663988e-03 -2.85084323e-02  6.61839154e+01  6.63196419e-03\n",
      "  8.27882425e-03  3.92503143e-02 -2.60652291e-02 -2.05188109e-02\n",
      "  1.47929487e-02 -3.14195589e-02  1.41782522e-02  4.56003645e-02\n",
      " -8.49483437e-03 -4.36203120e-02  1.26407183e-02 -1.41300694e-02\n",
      " -2.83660062e-02  1.36226324e-02 -4.57683915e-03  3.26483923e-03\n",
      "  3.53260331e-02  1.72505786e-02 -4.22075797e-02  3.45226802e-03\n",
      "  5.23256093e-03 -3.44321687e-02  2.75598586e-02  1.04222639e-02\n",
      " -8.20540808e-03  2.95968541e+01 -2.49600811e-02  2.78503246e-02\n",
      " -2.97380266e-02 -2.46348937e-02  2.12240689e-02 -1.76915850e-02\n",
      " -2.42752616e-02 -1.52123515e-02  1.54435036e-02 -3.62525417e-03\n",
      " -1.66042874e-02 -6.11230253e-02  2.96432796e+01  7.57696168e-03\n",
      " -1.37960327e-02 -3.32906654e-02  7.05707803e+00 -8.21372273e-03\n",
      " -5.14610860e-03 -6.23119464e-03  3.41554327e-02 -1.70103164e-02\n",
      " -4.01444777e-02 -1.22854780e-02  6.53053497e-03  1.17178625e-02\n",
      " -7.60668586e-04 -1.26611995e-02 -2.35855848e-02  6.47566839e+01\n",
      " -4.05706875e-02 -1.66035650e-02  7.82212600e-03  2.76727071e-02]\n",
      "MSE: 2.1213115549941948e-08\n"
     ]
    }
   ],
   "source": [
    "reg.fit(X, y)\n",
    "y_pred = Ridge(alpha=0.01).fit(X, y).predict(X)\n",
    "print(f\"MSE: {mean_squared_error(y, y_pred)}\")"
   ]
  },
  {
   "cell_type": "code",
   "execution_count": 755,
   "id": "733fc39d",
   "metadata": {},
   "outputs": [],
   "source": [
    "class LinearRegression(object):\n",
    "    def __init__(self, alpha=0.03, l_ratio=0.01, tol=0.0001, max_iter=1000):\n",
    "        '''\n",
    "        Для начала необходимо инициализировать параметры\n",
    "        alpha - это learning rate или шаг обучения\n",
    "        l_ratio - параметр регуляризации\n",
    "        tol - значение для критерия останова\n",
    "        max_iter - максимальное количество итераций обучения\n",
    "        '''\n",
    "        self.alpha = alpha\n",
    "        self.l_ratio = l_ratio\n",
    "        self.tol = tol\n",
    "        self.max_iter = max_iter\n",
    "        \n",
    "             \n",
    "    def fit(self, X, y):\n",
    "        '''\n",
    "        Метод для обучения линейной регрессии\n",
    "        X - матрица признаков\n",
    "        y - вектор правильных ответов\n",
    "        '''\n",
    "        \n",
    "        w = np.ones(X.shape[1])\n",
    "        b = np.ones(y.shape[0])\n",
    "        \n",
    "        for _ in range(self.max_iter): \n",
    "            \n",
    "            y_pred = X.dot(w) + b\n",
    "            \n",
    "            w_1 = w\n",
    "            y_pred_1 = y_pred\n",
    "            X_1 = X\n",
    "            b_1 = b\n",
    "            \n",
    "            w_gradient = 2 / y.shape[0] * ((y_pred - y).dot(X)) + 2 * self.l_ratio * w\n",
    "            b_gradient = 2 / y.shape[0] * np.mean(y_pred - y)\n",
    "            \n",
    "            w = w - self.alpha * w_gradient\n",
    "            b = b - self.alpha * b_gradient\n",
    "            \n",
    "            if abs(MSE(X_1.dot(w_1) + b_1, y) - MSE(X.dot(w) + b, y)) < self.tol:\n",
    "                break\n",
    "                \n",
    "        self.w = w\n",
    "        self.b = b[0]\n",
    "        \n",
    "    def predict(self, X):\n",
    "        '''\n",
    "        Метод для предсказаний линейной регрессии\n",
    "        X - матрица признаков\n",
    "        '''\n",
    "        return X.dot(self.w) + self.b\n",
    "        \n",
    "        "
   ]
  },
  {
   "cell_type": "code",
   "execution_count": 756,
   "id": "ebd5790f",
   "metadata": {},
   "outputs": [
    {
     "name": "stdout",
     "output_type": "stream",
     "text": [
      "213\n",
      "3.068044135254378\n"
     ]
    }
   ],
   "source": [
    "my_reg = LinearRegression()\n",
    "my_reg.fit(X, y)\n",
    "print(mean_squared_error(y, my_reg.predict(X)))"
   ]
  },
  {
   "cell_type": "code",
   "execution_count": null,
   "id": "5f78e23f",
   "metadata": {},
   "outputs": [],
   "source": []
  },
  {
   "cell_type": "code",
   "execution_count": null,
   "id": "650c83cc",
   "metadata": {},
   "outputs": [],
   "source": []
  }
 ],
 "metadata": {
  "kernelspec": {
   "display_name": "Python 3 (ipykernel)",
   "language": "python",
   "name": "python3"
  },
  "language_info": {
   "codemirror_mode": {
    "name": "ipython",
    "version": 3
   },
   "file_extension": ".py",
   "mimetype": "text/x-python",
   "name": "python",
   "nbconvert_exporter": "python",
   "pygments_lexer": "ipython3",
   "version": "3.9.7"
  }
 },
 "nbformat": 4,
 "nbformat_minor": 5
}
